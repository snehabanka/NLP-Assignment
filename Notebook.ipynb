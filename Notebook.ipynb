{
 "cells": [
  {
   "cell_type": "markdown",
   "id": "dd0bedab",
   "metadata": {},
   "source": [
    "# Installation of Necessary Libraries"
   ]
  },
  {
   "cell_type": "code",
   "execution_count": 20,
   "id": "d9a6fb5f",
   "metadata": {},
   "outputs": [
    {
     "name": "stdout",
     "output_type": "stream",
     "text": []
    }
   ],
   "source": [
    "#requirements.txt in the Same Directory\n",
    "!pip install -r requirements.txt"
   ]
  },
  {
   "cell_type": "code",
   "execution_count": 2,
   "id": "bd3407c7",
   "metadata": {},
   "outputs": [],
   "source": [
    "# #requirements.txt NOT in the same Directory\n",
    "#!pip install -r /path/to/requirements.txt"
   ]
  },
  {
   "cell_type": "markdown",
   "id": "9d67d3d8",
   "metadata": {},
   "source": [
    "# Importing Libraries and Setting Up"
   ]
  },
  {
   "cell_type": "code",
   "execution_count": 3,
   "id": "17955259",
   "metadata": {},
   "outputs": [
    {
     "name": "stderr",
     "output_type": "stream",
     "text": [
      "From C:\\Users\\SNEHA\\anaconda3\\Lib\\site-packages\\keras\\src\\losses.py:2976: The name tf.losses.sparse_softmax_cross_entropy is deprecated. Please use tf.compat.v1.losses.sparse_softmax_cross_entropy instead.\n",
      "\n"
     ]
    }
   ],
   "source": [
    "import re\n",
    "import pandas as pd\n",
    "import language_tool_python\n",
    "from language_tool_python import LanguageTool\n",
    "from transformers import BertTokenizer, BertForSequenceClassification, Trainer, TrainingArguments, pipeline\n",
    "import torch\n",
    "import csv\n",
    "from textblob import TextBlob\n",
    "import random\n",
    "from nltk.tokenize import word_tokenize\n",
    "from nltk.corpus import stopwords\n",
    "from nltk.stem import WordNetLemmatizer\n",
    "from sklearn.model_selection import train_test_split\n",
    "from sklearn.linear_model import LogisticRegression\n",
    "from sklearn.metrics import accuracy_score\n",
    "from sklearn.feature_extraction.text import CountVectorizer, TfidfVectorizer\n",
    "from sklearn.ensemble import RandomForestClassifier"
   ]
  },
  {
   "cell_type": "code",
   "execution_count": 4,
   "id": "c9d4ed2e",
   "metadata": {},
   "outputs": [
    {
     "name": "stderr",
     "output_type": "stream",
     "text": [
      "[nltk_data] Downloading package punkt to\n",
      "[nltk_data]     C:\\Users\\SNEHA\\AppData\\Roaming\\nltk_data...\n",
      "[nltk_data]   Package punkt is already up-to-date!\n",
      "[nltk_data] Downloading package stopwords to\n",
      "[nltk_data]     C:\\Users\\SNEHA\\AppData\\Roaming\\nltk_data...\n",
      "[nltk_data]   Package stopwords is already up-to-date!\n",
      "[nltk_data] Downloading package wordnet to\n",
      "[nltk_data]     C:\\Users\\SNEHA\\AppData\\Roaming\\nltk_data...\n",
      "[nltk_data]   Package wordnet is already up-to-date!\n"
     ]
    },
    {
     "data": {
      "text/plain": [
       "True"
      ]
     },
     "execution_count": 4,
     "metadata": {},
     "output_type": "execute_result"
    }
   ],
   "source": [
    "import nltk\n",
    "\n",
    "nltk.download('punkt')\n",
    "nltk.download('stopwords')\n",
    "nltk.download('wordnet')"
   ]
  },
  {
   "cell_type": "markdown",
   "id": "09099603",
   "metadata": {},
   "source": [
    "# Data Loading\n",
    "\n",
    "Loads the text data from a specified file path. This data consists of customer queries and engineer responses that will be used for analysis."
   ]
  },
  {
   "cell_type": "code",
   "execution_count": 5,
   "id": "58d69d66",
   "metadata": {},
   "outputs": [
    {
     "data": {
      "text/plain": [
       "\"ï»¿Ticket Id - 34333\\nDescription - Integration request\\nCustomer Response:\\n\\n\\nHi Support,\\n\\n\\nThere has been a mistake, you integrated a Store located in Mexico, the one we were trying to integrate is in Madrid, please delete and cancel these:\\n\\n\\n\\n\\n7dad6eeb-4 \\n\\n\\nLet us know.\\n\\n\\nThanks.\\n\\n\\nEngineer Response:\\n\\n\\nHi Roberto,\\n\\n\\nWe have de-staged the stores with lastpos and provided menu maker access.\\n\\n\\nStore UUID :\\n7dad6eeb-4746  \\n\\tA46d97e2-e99 \\n\\tA26f3b8a-4ffc 02\\n\\tEfb224ca-04 \\n\\t\\n\\nIf you feel your request was not addressed/resolved properly, you can reopen the same case within 3 business working days and/or request escalation. If you have a new issue, please raise a new case.\\n\\n\\nRegards,\\nL2 UET Support\\n\\n\\n\\n\\n\\n\\n\\n\\nEmpathy - Fail\\n\\n\\nComment -   Customer has stated that the previous eng has integrated the wrong store as address is different. Current Eng should have shown Empathy to customer since previous Eng handled it incorrectly without taking confirmation.\\n\\n\\nGrammar - Pass\\n\\n\\nComment - Nill\\n\\n\\n========================================================================\\n\\n\\nTicket Id - 338 \\nDescription - Sankalp - Hampton Park - Menu Modifier Updates\\nCustomer Response:\\n\\n\\nHi guys\\n\\n\\nThe request wasn't about access to menu maker, the request was the get help from support in building out and applying modifiers?\\n\\n\\nThanks\\nStefan\\n\\n\\nEngineer Response:\\n\\n\\nHi Stefan,\\n\\n\\nPlease follow the below documents to update the modifiers in the menu payload.\\n\\n\\nhttps://develo \\n\\n\\nhttps:/develo\\n\\n\\nStore UUID: 7140faa \\n\\n\\nIf you feel the issue is not addressed/resolved properly you can reopen the same case within 3 business working days or If you have a new issue please raise a new case.\\n\\n\\nThanks,\\nL2 UET Support\\n\\n\\n\\n\\nEmpathy - Fail\\n\\n\\nComment - Previous engineer provided incorrect resolution regarding menu maker access whereas request was related to modifier. Engineer failed to use empathy statement in the response.\\n\\n\\nGrammar - Pass\\n\\n\\nComment - Nill\\n========================================================================\\n\\n\\n\\n\\nTicket Id - 33 \\nDescription - Menu issue\\nCustomer Response:\\n\\n\\nHi\\n\\n\\nYou are not understanding the issue. How did you perform this menu pull? As I said before I don't have problems adding the menu. The issue is with delivery price which shld be higher. How do I maintain that when is integrated with POS. Can I talk  to someone on phone as clearly you are  not understanding the issue.\\n\\n\\nI give up.\\n\\n\\nPankaj\\n\\n\\nEngineer Response:\\n\\n\\nHi Pankaj,\\n\\n\\nPlease try understanding the situation. All the menu changes need to be done from POS side when the store was POS integrated. We understand that the uber has 2 pricing options but that also needs to be updated from POS side.\\n\\n\\nIf you want to update the prices, then we can provide menu edit access but after a menu sync happens from POS then the menu will be overridden. So, We request you to please reach out to Square POS and let them assist with the situation.\\n\\n\\nStore UUID - f264 \\n\\n\\nIf you feel the issue is not addressed/resolved properly you can reopen the same case within 3 business working days or If you have a new issue please raise a new case.\\n\\n\\nThanks,\\nL2 UET Support\\n\\n\\nEmpathy - Fail\\n\\n\\nComment -   missed to show empathy to the customer query.\\n\\n\\nGrammar - Pass\\n\\n\\nComment - Nill\\n\\n\\n\\n\\n\\n\\n========================================================================\\nTicket Id - 337 \\nDescription - Case 337  : Your UberEats Technology Inquiry\\nEngineer Response:\\n\\n\\nHi There,\\n\\nWe have checked the below store, the store is well staged with clover pos.\\n\\nThe store uuid:- 19c9 \\npos provider :- \\nInfo\\nClient ID: h5_UUhrR57LkVM8zuLCFz-2ivW3jCUPF\\nApp Owner UUID: c84bb38\\n \\nWe have done the menu refresh was store, and the menu refresh was successful. we could see the still item was out of stock. please try to update the menu from Clover dashboard. please reach out to pos provider for help.\\n\\nIf you feel the issue has not been addressed or resolved properly, you can reopen the same case within 3 business days. If you have a new issue, please raise a new case.\\n\\nThanks,\\nL2 UET support\\nGrammar - Fail\\nComment -  Email has 4+ grammar errors.\\nEmpathy - Pass\\nComment - Nill\""
      ]
     },
     "execution_count": 5,
     "metadata": {},
     "output_type": "execute_result"
    }
   ],
   "source": [
    "#put path where you have Gen ai __ case study:\n",
    "file_path = r'D:\\Downloads\\Gen ai __ case study.txt'\n",
    "    \n",
    "with open(file_path, 'r') as file:\n",
    "    content = file.read()\n",
    "\n",
    "content[:]"
   ]
  },
  {
   "cell_type": "markdown",
   "id": "42987d53",
   "metadata": {},
   "source": [
    "# Extracting Tickets and Responses\n",
    "\n",
    "Defines and applies a function to extract individual tickets and their respective customer and engineer responses from the loaded data."
   ]
  },
  {
   "cell_type": "code",
   "execution_count": 6,
   "id": "e8665688",
   "metadata": {},
   "outputs": [
    {
     "name": "stdout",
     "output_type": "stream",
     "text": [
      "[{'ticket_id': '34333', 'customer_response': 'Hi Support,\\n\\n\\nThere has been a mistake, you integrated a Store located in Mexico, the one we were trying to integrate is in Madrid, please delete and cancel these:\\n\\n\\n\\n\\n7dad6eeb-4 \\n\\n\\nLet us know.\\n\\n\\nThanks.', 'engineer_response': 'Hi Roberto,\\n\\n\\nWe have de-staged the stores with lastpos and provided menu maker access.\\n\\n\\nStore UUID :\\n7dad6eeb-4746  \\n\\tA46d97e2-e99 \\n\\tA26f3b8a-4ffc 02\\n\\tEfb224ca-04 \\n\\t\\n\\nIf you feel your request was not addressed/resolved properly, you can reopen the same case within 3 business working days and/or request escalation. If you have a new issue, please raise a new case.\\n\\n\\nRegards,\\nL2 UET Support'}, {'ticket_id': '338', 'customer_response': \"Hi guys\\n\\n\\nThe request wasn't about access to menu maker, the request was the get help from support in building out and applying modifiers?\\n\\n\\nThanks\\nStefan\", 'engineer_response': 'Hi Stefan,\\n\\n\\nPlease follow the below documents to update the modifiers in the menu payload.\\n\\n\\nhttps://develo \\n\\n\\nhttps:/develo\\n\\n\\nStore UUID: 7140faa \\n\\n\\nIf you feel the issue is not addressed/resolved properly you can reopen the same case within 3 business working days or If you have a new issue please raise a new case.\\n\\n\\nThanks,\\nL2 UET Support'}, {'ticket_id': '33', 'customer_response': \"Hi\\n\\n\\nYou are not understanding the issue. How did you perform this menu pull? As I said before I don't have problems adding the menu. The issue is with delivery price which shld be higher. How do I maintain that when is integrated with POS. Can I talk  to someone on phone as clearly you are  not understanding the issue.\\n\\n\\nI give up.\\n\\n\\nPankaj\", 'engineer_response': 'Hi Pankaj,\\n\\n\\nPlease try understanding the situation. All the menu changes need to be done from POS side when the store was POS integrated. We understand that the uber has 2 pricing options but that also needs to be updated from POS side.\\n\\n\\nIf you want to update the prices, then we can provide menu edit access but after a menu sync happens from POS then the menu will be overridden. So, We request you to please reach out to Square POS and let them assist with the situation.\\n\\n\\nStore UUID - f264 \\n\\n\\nIf you feel the issue is not addressed/resolved properly you can reopen the same case within 3 business working days or If you have a new issue please raise a new case.\\n\\n\\nThanks,\\nL2 UET Support'}, {'ticket_id': '337', 'customer_response': '', 'engineer_response': 'Hi There,\\n\\nWe have checked the below store, the store is well staged with clover pos.\\n\\nThe store uuid:- 19c9 \\npos provider :- \\nInfo\\nClient ID: h5_UUhrR57LkVM8zuLCFz-2ivW3jCUPF\\nApp Owner UUID: c84bb38\\n \\nWe have done the menu refresh was store, and the menu refresh was successful. we could see the still item was out of stock. please try to update the menu from Clover dashboard. please reach out to pos provider for help.\\n\\nIf you feel the issue has not been addressed or resolved properly, you can reopen the same case within 3 business days. If you have a new issue, please raise a new case.\\n\\nThanks,\\nL2 UET support\\nGrammar - Fail\\nComment -  Email has 4+ grammar errors.'}]\n"
     ]
    }
   ],
   "source": [
    "def extract_tickets_and_responses(content):\n",
    "    tickets = []\n",
    "    ticket_blocks = content.split('Ticket Id - ')[1:]  \n",
    "\n",
    "    for block in ticket_blocks:\n",
    "        \n",
    "        ticket_id_search = re.search(r'(\\d+)', block)\n",
    "        ticket_id = ticket_id_search.group(1) if ticket_id_search else \"Unknown\"\n",
    "\n",
    "        \n",
    "        customer_response_search = re.search(r'Customer Response:\\s*(.*?)(?:Engineer Response:|$)', block, re.DOTALL)\n",
    "        engineer_response_search = re.search(r'Engineer Response:\\s*(.*?)(?:Empathy -|$)', block, re.DOTALL)\n",
    "                                            \n",
    "\n",
    "        customer_response = customer_response_search.group(1).strip() if customer_response_search else \"\"\n",
    "        engineer_response = engineer_response_search.group(1).strip() if engineer_response_search else \"\"\n",
    "\n",
    "        tickets.append({\n",
    "            'ticket_id': ticket_id,\n",
    "            'customer_response': customer_response,\n",
    "            'engineer_response': engineer_response\n",
    "        })\n",
    "\n",
    "    return tickets\n",
    "\n",
    "data = extract_tickets_and_responses(content)\n",
    "print(data)\n"
   ]
  },
  {
   "cell_type": "markdown",
   "id": "d94c5443",
   "metadata": {},
   "source": [
    "#  Data Preprocessing\n",
    "\n",
    "Cleans and preprocesses the extracted tickets. This includes removing newline characters and additional whitespace, ensuring the text data is in a suitable format for grammer analysis.\n",
    "\n",
    "*not applying tokenization,stop words and stemming/lemmatizer because need to maintain the raw data for grammar analysis."
   ]
  },
  {
   "cell_type": "code",
   "execution_count": 7,
   "id": "f9c778d7",
   "metadata": {},
   "outputs": [
    {
     "name": "stdout",
     "output_type": "stream",
     "text": [
      "[{'ticket_id': '34333', 'customer_response': 'Hi Support, There has been a mistake, you integrated a Store located in Mexico, the one we were trying to integrate is in Madrid, please delete and cancel these: 7dad6eeb-4 Let us know. Thanks.', 'engineer_response': 'Hi Roberto, We have de-staged the stores with lastpos and provided menu maker access. Store UUID : 7dad6eeb-4746 A46d97e2-e99 A26f3b8a-4ffc 02 Efb224ca-04 If you feel your request was not addressed/resolved properly, you can reopen the same case within 3 business working days and/or request escalation. If you have a new issue, please raise a new case. Regards, L2 UET Support'}, {'ticket_id': '338', 'customer_response': \"Hi guys The request wasn't about access to menu maker, the request was the get help from support in building out and applying modifiers? Thanks Stefan\", 'engineer_response': 'Hi Stefan, Please follow the below documents to update the modifiers in the menu payload. https://develo https:/develo Store UUID: 7140faa If you feel the issue is not addressed/resolved properly you can reopen the same case within 3 business working days or If you have a new issue please raise a new case. Thanks, L2 UET Support'}, {'ticket_id': '33', 'customer_response': \"Hi You are not understanding the issue. How did you perform this menu pull? As I said before I don't have problems adding the menu. The issue is with delivery price which shld be higher. How do I maintain that when is integrated with POS. Can I talk to someone on phone as clearly you are not understanding the issue. I give up. Pankaj\", 'engineer_response': 'Hi Pankaj, Please try understanding the situation. All the menu changes need to be done from POS side when the store was POS integrated. We understand that the uber has 2 pricing options but that also needs to be updated from POS side. If you want to update the prices, then we can provide menu edit access but after a menu sync happens from POS then the menu will be overridden. So, We request you to please reach out to Square POS and let them assist with the situation. Store UUID - f264 If you feel the issue is not addressed/resolved properly you can reopen the same case within 3 business working days or If you have a new issue please raise a new case. Thanks, L2 UET Support'}, {'ticket_id': '337', 'customer_response': '', 'engineer_response': 'Hi There, We have checked the below store, the store is well staged with clover pos. The store uuid:- 19c9 pos provider :- Info Client ID: h5_UUhrR57LkVM8zuLCFz-2ivW3jCUPF App Owner UUID: c84bb38 We have done the menu refresh was store, and the menu refresh was successful. we could see the still item was out of stock. please try to update the menu from Clover dashboard. please reach out to pos provider for help. If you feel the issue has not been addressed or resolved properly, you can reopen the same case within 3 business days. If you have a new issue, please raise a new case. Thanks, L2 UET support Grammar - Fail Comment - Email has 4+ grammar errors.'}]\n"
     ]
    }
   ],
   "source": [
    "def clean_text(text):\n",
    "    \"\"\"\n",
    "    Function to clean text by removing newline characters, equals signs,\n",
    "    and performing optional preprocessing.\n",
    "    \"\"\"\n",
    "    cleaned_text = re.sub(r'\\s+', ' ', text).strip()\n",
    "\n",
    "    return cleaned_text\n",
    "\n",
    "def preprocess_tickets(tickets):\n",
    "    \"\"\"\n",
    "    Function to preprocess a list of tickets, cleaning text and handling missing data.\n",
    "    \"\"\"\n",
    "    cleaned_tickets = []\n",
    "    for ticket in tickets:\n",
    "        \n",
    "        if not ticket['customer_response'].strip() and not ticket['engineer_response'].strip():\n",
    "            continue\n",
    "\n",
    "        # Clean text\n",
    "        ticket['customer_response'] = clean_text(ticket['customer_response'])\n",
    "        ticket['engineer_response'] = clean_text(ticket['engineer_response'])\n",
    "\n",
    "        cleaned_tickets.append(ticket)\n",
    "\n",
    "    return cleaned_tickets\n",
    "\n",
    "cleaned_data = preprocess_tickets(data)\n",
    "print(cleaned_data)"
   ]
  },
  {
   "cell_type": "markdown",
   "id": "6b27a9cc",
   "metadata": {},
   "source": [
    "# Grammar Checking Function\n",
    "\n",
    "Implements a function to check the grammar of the engineer responses using `language_tool_python`. It scores the responses based on the number of grammatical errors and flags responses with significant errors."
   ]
  },
  {
   "cell_type": "code",
   "execution_count": 8,
   "id": "65a45631",
   "metadata": {},
   "outputs": [
    {
     "name": "stdout",
     "output_type": "stream",
     "text": [
      "SENTENCE:  Hi Roberto, We have de-staged the stores with lastpos and provided menu maker access. Store UUID : 7dad6eeb-4746 A46d97e2-e99 A26f3b8a-4ffc 02 Efb224ca-04 If you feel your request was not addressed/resolved properly, you can reopen the same case within 3 business working days and/or request escalation. If you have a new issue, please raise a new case. Regards, L2 UET Support \n",
      "\n",
      "{'score': 6, 'status': 'Fail', 'comment': 'Possible spelling mistake found. (Suggested word: restaged); Possible spelling mistake found. (Suggested word: lasts)'} \n",
      "\n",
      "SENTENCE:  Hi Stefan, Please follow the below documents to update the modifiers in the menu payload. https://develo https:/develo Store UUID: 7140faa If you feel the issue is not addressed/resolved properly you can reopen the same case within 3 business working days or If you have a new issue please raise a new case. Thanks, L2 UET Support \n",
      "\n",
      "{'score': 10, 'status': 'Pass', 'comment': 'No grammatical errors found.'} \n",
      "\n",
      "SENTENCE:  Hi Pankaj, Please try understanding the situation. All the menu changes need to be done from POS side when the store was POS integrated. We understand that the uber has 2 pricing options but that also needs to be updated from POS side. If you want to update the prices, then we can provide menu edit access but after a menu sync happens from POS then the menu will be overridden. So, We request you to please reach out to Square POS and let them assist with the situation. Store UUID - f264 If you feel the issue is not addressed/resolved properly you can reopen the same case within 3 business working days or If you have a new issue please raise a new case. Thanks, L2 UET Support \n",
      "\n",
      "{'score': 6, 'status': 'Fail', 'comment': 'Possible spelling mistake found. (Suggested word: Uber); Use a comma before ‘but’ if it connects two independent clauses (unless they are closely connected and short). (Suggested word: , but)'} \n",
      "\n",
      "SENTENCE:  Hi There, We have checked the below store, the store is well staged with clover pos. The store uuid:- 19c9 pos provider :- Info Client ID: h5_UUhrR57LkVM8zuLCFz-2ivW3jCUPF App Owner UUID: c84bb38 We have done the menu refresh was store, and the menu refresh was successful. we could see the still item was out of stock. please try to update the menu from Clover dashboard. please reach out to pos provider for help. If you feel the issue has not been addressed or resolved properly, you can reopen the same case within 3 business days. If you have a new issue, please raise a new case. Thanks, L2 UET support Grammar - Fail Comment - Email has 4+ grammar errors. \n",
      "\n",
      "{'score': 1, 'status': 'Fail', 'comment': 'Possible spelling mistake found. (Suggested word: POS); Possible spelling mistake found. (Suggested word: UUID); Possible spelling mistake found. (Suggested word: POS); This sentence does not start with an uppercase letter. (Suggested word: We); This sentence does not start with an uppercase letter. (Suggested word: Please); This sentence does not start with an uppercase letter. (Suggested word: Please); Possible spelling mistake found. (Suggested word: POS)'} \n",
      "\n"
     ]
    }
   ],
   "source": [
    "def check_grammar(text, max_threshold=10):\n",
    "    tool = language_tool_python.LanguageTool('en-US')\n",
    "    text = \" \".join(\"<LINK>\" if token.startswith(\"http\") or token.startswith(\"www\") or token.startswith(\"https\")  else token for token in text.split())\n",
    "    matches = tool.check(text)\n",
    "    num_errors = len(matches)\n",
    "\n",
    "    if num_errors >= max_threshold:\n",
    "        score = 0\n",
    "    else:\n",
    "        # Linear scaling of the score\n",
    "        score = round(10 * (1 - num_errors / max_threshold)**2)\n",
    "\n",
    "    if score >= 8:\n",
    "        print({\"score\": score, \"status\": \"Pass\", \"comment\": \"No grammatical errors found.\"},\"\\n\")\n",
    "        return {\"score\": score, \"status\": \"Pass\", \"comment\": \"No grammatical errors found.\"}\n",
    "    else:\n",
    "        errors = [f\"{match.message} (Suggested word: {match.replacements[0]})\" for match in matches]\n",
    "        print({\"score\": score, \"status\": \"Fail\", \"comment\": \"; \".join(errors)},\"\\n\")\n",
    "        return {\"score\": score, \"status\": \"Fail\", \"comment\": \"; \".join(errors)}\n",
    "result_data = []\n",
    "for i in cleaned_data:\n",
    "    print(\"SENTENCE: \",i['engineer_response'],\"\\n\")\n",
    "    grammar_result = check_grammar(i['engineer_response'])\n",
    "    result_data.append({\"ticket_id\": i['ticket_id'], \"parameter\": \"grammar\", **grammar_result})"
   ]
  },
  {
   "cell_type": "markdown",
   "id": "c56cc65b",
   "metadata": {},
   "source": [
    "# Text Preprocessing for NLP\n",
    "\n",
    "Further preprocesses the text data by tokenizing, removing stopwords, and lemmatizing the words. This step is crucial for effective NLP analysis. "
   ]
  },
  {
   "cell_type": "code",
   "execution_count": 9,
   "id": "d206de23",
   "metadata": {},
   "outputs": [
    {
     "name": "stdout",
     "output_type": "stream",
     "text": [
      "[{'ticket_id': '34333', 'customer_response': 'Hi Support, There has been a mistake, you integrated a Store located in Mexico, the one we were trying to integrate is in Madrid, please delete and cancel these: 7dad6eeb-4 Let us know. Thanks.', 'engineer_response': 'Hi Roberto, We have de-staged the stores with lastpos and provided menu maker access. Store UUID : 7dad6eeb-4746 A46d97e2-e99 A26f3b8a-4ffc 02 Efb224ca-04 If you feel your request was not addressed/resolved properly, you can reopen the same case within 3 business working days and/or request escalation. If you have a new issue, please raise a new case. Regards, L2 UET Support', 'processed_customer_response': 'Hi Support , mistake , integrated Store located Mexico , one trying integrate Madrid , please delete cancel : 7dad6eeb-4 Let u know . Thanks .', 'processed_engineer_response': 'Hi Roberto , de-staged store lastpos provided menu maker access . Store UUID : 7dad6eeb-4746 A46d97e2-e99 A26f3b8a-4ffc 02 Efb224ca-04 feel request addressed/resolved properly , reopen case within 3 business working day and/or request escalation . new issue , please raise new case . Regards , L2 UET Support'}, {'ticket_id': '338', 'customer_response': \"Hi guys The request wasn't about access to menu maker, the request was the get help from support in building out and applying modifiers? Thanks Stefan\", 'engineer_response': 'Hi Stefan, Please follow the below documents to update the modifiers in the menu payload. https://develo https:/develo Store UUID: 7140faa If you feel the issue is not addressed/resolved properly you can reopen the same case within 3 business working days or If you have a new issue please raise a new case. Thanks, L2 UET Support', 'processed_customer_response': \"Hi guy request n't access menu maker , request get help support building applying modifier ? Thanks Stefan\", 'processed_engineer_response': 'Hi Stefan , Please follow document update modifier menu payload . http : //develo http : /develo Store UUID : 7140faa feel issue addressed/resolved properly reopen case within 3 business working day new issue please raise new case . Thanks , L2 UET Support'}, {'ticket_id': '33', 'customer_response': \"Hi You are not understanding the issue. How did you perform this menu pull? As I said before I don't have problems adding the menu. The issue is with delivery price which shld be higher. How do I maintain that when is integrated with POS. Can I talk to someone on phone as clearly you are not understanding the issue. I give up. Pankaj\", 'engineer_response': 'Hi Pankaj, Please try understanding the situation. All the menu changes need to be done from POS side when the store was POS integrated. We understand that the uber has 2 pricing options but that also needs to be updated from POS side. If you want to update the prices, then we can provide menu edit access but after a menu sync happens from POS then the menu will be overridden. So, We request you to please reach out to Square POS and let them assist with the situation. Store UUID - f264 If you feel the issue is not addressed/resolved properly you can reopen the same case within 3 business working days or If you have a new issue please raise a new case. Thanks, L2 UET Support', 'processed_customer_response': \"Hi understanding issue . perform menu pull ? said n't problem adding menu . issue delivery price shld higher . maintain integrated POS . talk someone phone clearly understanding issue . give . Pankaj\", 'processed_engineer_response': 'Hi Pankaj , Please try understanding situation . menu change need done POS side store POS integrated . understand uber 2 pricing option also need updated POS side . want update price , provide menu edit access menu sync happens POS menu overridden . , request please reach Square POS let assist situation . Store UUID - f264 feel issue addressed/resolved properly reopen case within 3 business working day new issue please raise new case . Thanks , L2 UET Support'}, {'ticket_id': '337', 'customer_response': '', 'engineer_response': 'Hi There, We have checked the below store, the store is well staged with clover pos. The store uuid:- 19c9 pos provider :- Info Client ID: h5_UUhrR57LkVM8zuLCFz-2ivW3jCUPF App Owner UUID: c84bb38 We have done the menu refresh was store, and the menu refresh was successful. we could see the still item was out of stock. please try to update the menu from Clover dashboard. please reach out to pos provider for help. If you feel the issue has not been addressed or resolved properly, you can reopen the same case within 3 business days. If you have a new issue, please raise a new case. Thanks, L2 UET support Grammar - Fail Comment - Email has 4+ grammar errors.', 'processed_customer_response': '', 'processed_engineer_response': 'Hi , checked store , store well staged clover po . store uuid : - 19c9 po provider : - Info Client ID : h5_UUhrR57LkVM8zuLCFz-2ivW3jCUPF App Owner UUID : c84bb38 done menu refresh store , menu refresh successful . could see still item stock . please try update menu Clover dashboard . please reach po provider help . feel issue addressed resolved properly , reopen case within 3 business day . new issue , please raise new case . Thanks , L2 UET support Grammar - Fail Comment - Email 4+ grammar error .'}]\n"
     ]
    }
   ],
   "source": [
    "lemmatizer = WordNetLemmatizer()\n",
    "\n",
    "def process_text(text):\n",
    "\n",
    "    words = word_tokenize(text)\n",
    "\n",
    "    stop_words = set(stopwords.words('english'))\n",
    "    filtered_words = [word for word in words if word.lower() not in stop_words]\n",
    "\n",
    "    lemmatized_words = [lemmatizer.lemmatize(word) for word in filtered_words]\n",
    "    processed_text = ' '.join(lemmatized_words)\n",
    "\n",
    "    return processed_text\n",
    "\n",
    "for entry in cleaned_data:\n",
    "    entry['processed_customer_response'] = process_text(entry['customer_response'])\n",
    "    entry['processed_engineer_response'] = process_text(entry['engineer_response'])\n",
    "print(cleaned_data)\n",
    "\n",
    "original_data = pd.DataFrame(cleaned_data)"
   ]
  },
  {
   "cell_type": "markdown",
   "id": "0488f021",
   "metadata": {},
   "source": [
    "# Empathy Scoring Using TextBlob\n",
    "\n",
    "Utilizes TextBlob to calculate empathy scores for the processed engineer responses. Scores are determined based on sentiment polarity and scaled to a range of 0-10."
   ]
  },
  {
   "cell_type": "code",
   "execution_count": 10,
   "id": "1141543f",
   "metadata": {},
   "outputs": [
    {
     "name": "stdout",
     "output_type": "stream",
     "text": [
      "Sentence: Hi Roberto, We have de-staged the stores with lastpos and provided menu maker access. Store UUID : 7dad6eeb-4746 A46d97e2-e99 A26f3b8a-4ffc 02 Efb224ca-04 If you feel your request was not addressed/resolved properly, you can reopen the same case within 3 business working days and/or request escalation. If you have a new issue, please raise a new case. Regards, L2 UET Support\n",
      "Empathy Score: 5\n",
      "\n",
      "Sentence: Hi Stefan, Please follow the below documents to update the modifiers in the menu payload. https://develo https:/develo Store UUID: 7140faa If you feel the issue is not addressed/resolved properly you can reopen the same case within 3 business working days or If you have a new issue please raise a new case. Thanks, L2 UET Support\n",
      "Empathy Score: 6\n",
      "\n",
      "Sentence: Hi Pankaj, Please try understanding the situation. All the menu changes need to be done from POS side when the store was POS integrated. We understand that the uber has 2 pricing options but that also needs to be updated from POS side. If you want to update the prices, then we can provide menu edit access but after a menu sync happens from POS then the menu will be overridden. So, We request you to please reach out to Square POS and let them assist with the situation. Store UUID - f264 If you feel the issue is not addressed/resolved properly you can reopen the same case within 3 business working days or If you have a new issue please raise a new case. Thanks, L2 UET Support\n",
      "Empathy Score: 6\n",
      "\n",
      "Sentence: Hi There, We have checked the below store, the store is well staged with clover pos. The store uuid:- 19c9 pos provider :- Info Client ID: h5_UUhrR57LkVM8zuLCFz-2ivW3jCUPF App Owner UUID: c84bb38 We have done the menu refresh was store, and the menu refresh was successful. we could see the still item was out of stock. please try to update the menu from Clover dashboard. please reach out to pos provider for help. If you feel the issue has not been addressed or resolved properly, you can reopen the same case within 3 business days. If you have a new issue, please raise a new case. Thanks, L2 UET support Grammar - Fail Comment - Email has 4+ grammar errors.\n",
      "Empathy Score: 6\n",
      "\n"
     ]
    }
   ],
   "source": [
    "def calculate_empathy_scores(sentence):\n",
    "    blob = TextBlob(sentence)\n",
    "    empathy_score = round((blob.sentiment.polarity + 1) * 5) #Range: -1 (negative) to 1 (positive)\n",
    "    return empathy_score\n",
    "\n",
    "for i in cleaned_data:\n",
    "    empathy_score = calculate_empathy_scores(i['processed_engineer_response'])\n",
    "    print(f\"Sentence: {i['engineer_response']}\\nEmpathy Score: {empathy_score}\\n\")"
   ]
  },
  {
   "cell_type": "markdown",
   "id": "ed2ad475",
   "metadata": {},
   "source": [
    "#  Text Similarity Analysis\n",
    "\n",
    "Computes the cosine similarity between customer queries and engineer responses to assess the relevance of responses to the queries."
   ]
  },
  {
   "cell_type": "code",
   "execution_count": 11,
   "id": "5e65b167",
   "metadata": {},
   "outputs": [
    {
     "name": "stdout",
     "output_type": "stream",
     "text": [
      "Engineer Response: Hi Roberto, We have de-staged the stores with lastpos and provided menu maker access. Store UUID : 7dad6eeb-4746 A46d97e2-e99 A26f3b8a-4ffc 02 Efb224ca-04 If you feel your request was not addressed/resolved properly, you can reopen the same case within 3 business working days and/or request escalation. If you have a new issue, please raise a new case. Regards, L2 UET Support \n",
      "\n",
      "Relevance: Engineer's response may not be highly relevant to the customer's query.\n",
      "\n",
      "Engineer Response: Hi Stefan, Please follow the below documents to update the modifiers in the menu payload. https://develo https:/develo Store UUID: 7140faa If you feel the issue is not addressed/resolved properly you can reopen the same case within 3 business working days or If you have a new issue please raise a new case. Thanks, L2 UET Support \n",
      "\n",
      "Relevance: Engineer's response may not be highly relevant to the customer's query.\n",
      "\n",
      "Engineer Response: Hi Pankaj, Please try understanding the situation. All the menu changes need to be done from POS side when the store was POS integrated. We understand that the uber has 2 pricing options but that also needs to be updated from POS side. If you want to update the prices, then we can provide menu edit access but after a menu sync happens from POS then the menu will be overridden. So, We request you to please reach out to Square POS and let them assist with the situation. Store UUID - f264 If you feel the issue is not addressed/resolved properly you can reopen the same case within 3 business working days or If you have a new issue please raise a new case. Thanks, L2 UET Support \n",
      "\n",
      "Relevance: Engineer's response may not be highly relevant to the customer's query.\n",
      "\n",
      "Engineer Response: Hi There, We have checked the below store, the store is well staged with clover pos. The store uuid:- 19c9 pos provider :- Info Client ID: h5_UUhrR57LkVM8zuLCFz-2ivW3jCUPF App Owner UUID: c84bb38 We have done the menu refresh was store, and the menu refresh was successful. we could see the still item was out of stock. please try to update the menu from Clover dashboard. please reach out to pos provider for help. If you feel the issue has not been addressed or resolved properly, you can reopen the same case within 3 business days. If you have a new issue, please raise a new case. Thanks, L2 UET support Grammar - Fail Comment - Email has 4+ grammar errors. \n",
      "\n",
      "Relevance: Engineer's response may not be highly relevant to the customer's query.\n",
      "\n"
     ]
    }
   ],
   "source": [
    "from sklearn.metrics.pairwise import cosine_similarity\n",
    "from sklearn.feature_extraction.text import CountVectorizer\n",
    "\n",
    "for _, row in original_data.iterrows():\n",
    "\n",
    "    customer_response = row['processed_customer_response']\n",
    "    engineer_response = row['processed_engineer_response']\n",
    "\n",
    "    vectorizer = CountVectorizer().fit_transform([customer_response, engineer_response])\n",
    "    vectors = vectorizer.toarray()\n",
    "\n",
    "    # Calculate cosine similarity\n",
    "    cosine_sim = cosine_similarity(vectors)[0, 1]\n",
    "\n",
    "    similarity_threshold = 0.5\n",
    "    print(\"Engineer Response:\", row['engineer_response'],\"\\n\")\n",
    "    # Check if engineer's response is similar enough to customer's query\n",
    "    if cosine_sim >= similarity_threshold:\n",
    "        print(\"Relevance: Engineer's response is relevant to the customer's query.\\n\")\n",
    "    else:\n",
    "        print(\"Relevance: Engineer's response may not be highly relevant to the customer's query.\\n\")\n"
   ]
  },
  {
   "cell_type": "markdown",
   "id": "aad54226",
   "metadata": {},
   "source": [
    "#  Additional Empathy Analysis with DistilBERT\n",
    "\n",
    "Performs empathy analysis using the DistilBERT model. This cell demonstrates an alternative approach using a different pre-trained model for empathy scoring."
   ]
  },
  {
   "cell_type": "code",
   "execution_count": 12,
   "id": "a023613a",
   "metadata": {},
   "outputs": [
    {
     "name": "stderr",
     "output_type": "stream",
     "text": [
      "Some weights of DistilBertForSequenceClassification were not initialized from the model checkpoint at distilbert-base-uncased and are newly initialized: ['pre_classifier.bias', 'classifier.bias', 'pre_classifier.weight', 'classifier.weight']\n",
      "You should probably TRAIN this model on a down-stream task to be able to use it for predictions and inference.\n"
     ]
    },
    {
     "name": "stdout",
     "output_type": "stream",
     "text": [
      "Engineer Response: Hi Roberto, We have de-staged the stores with lastpos and provided menu maker access. Store UUID : 7dad6eeb-4746 A46d97e2-e99 A26f3b8a-4ffc 02 Efb224ca-04 If you feel your request was not addressed/resolved properly, you can reopen the same case within 3 business working days and/or request escalation. If you have a new issue, please raise a new case. Regards, L2 UET Support\n",
      "\n",
      "Is Empathetic: False\n",
      "Sentiment Score: 5\n",
      "Status: FAIL Comment: Engineer needs to be more empathetic\n",
      "\n",
      "Engineer Response: Hi Stefan, Please follow the below documents to update the modifiers in the menu payload. https://develo https:/develo Store UUID: 7140faa If you feel the issue is not addressed/resolved properly you can reopen the same case within 3 business working days or If you have a new issue please raise a new case. Thanks, L2 UET Support\n",
      "\n",
      "Is Empathetic: False\n",
      "Sentiment Score: 5\n",
      "Status: FAIL Comment: Engineer needs to be more empathetic\n",
      "\n",
      "Engineer Response: Hi Pankaj, Please try understanding the situation. All the menu changes need to be done from POS side when the store was POS integrated. We understand that the uber has 2 pricing options but that also needs to be updated from POS side. If you want to update the prices, then we can provide menu edit access but after a menu sync happens from POS then the menu will be overridden. So, We request you to please reach out to Square POS and let them assist with the situation. Store UUID - f264 If you feel the issue is not addressed/resolved properly you can reopen the same case within 3 business working days or If you have a new issue please raise a new case. Thanks, L2 UET Support\n",
      "\n",
      "Is Empathetic: False\n",
      "Sentiment Score: 5\n",
      "Status: FAIL Comment: Engineer needs to be more empathetic\n",
      "\n",
      "Engineer Response: Hi There, We have checked the below store, the store is well staged with clover pos. The store uuid:- 19c9 pos provider :- Info Client ID: h5_UUhrR57LkVM8zuLCFz-2ivW3jCUPF App Owner UUID: c84bb38 We have done the menu refresh was store, and the menu refresh was successful. we could see the still item was out of stock. please try to update the menu from Clover dashboard. please reach out to pos provider for help. If you feel the issue has not been addressed or resolved properly, you can reopen the same case within 3 business days. If you have a new issue, please raise a new case. Thanks, L2 UET support Grammar - Fail Comment - Email has 4+ grammar errors.\n",
      "\n",
      "Is Empathetic: False\n",
      "Sentiment Score: 5\n",
      "Status: FAIL Comment: Engineer needs to be more empathetic\n",
      "\n"
     ]
    }
   ],
   "source": [
    "from transformers import DistilBertTokenizer, DistilBertForSequenceClassification\n",
    "import torch\n",
    "\n",
    "def calculate_empathy_scores_with_distilbert(engineer_responses):\n",
    "    tokenizer = DistilBertTokenizer.from_pretrained('distilbert-base-uncased')\n",
    "    model = DistilBertForSequenceClassification.from_pretrained('distilbert-base-uncased')\n",
    "\n",
    "    empathy_scores = []\n",
    "    for response in engineer_responses:\n",
    "        inputs = tokenizer(response, return_tensors='pt', truncation=True, padding=True)\n",
    "        outputs = model(**inputs)\n",
    "        logits = outputs.logits\n",
    "        probabilities = torch.nn.functional.softmax(logits, dim=-1)\n",
    "        sentiment_score = probabilities[0][1].item()  # Probability of positive sentiment\n",
    "        sentiment_score = round(sentiment_score * 10)\n",
    "        empathy_threshold = 6\n",
    "        \n",
    "        is_empathetic = sentiment_score > empathy_threshold\n",
    "\n",
    "        empathy_scores.append((response, is_empathetic, sentiment_score))\n",
    "\n",
    "    return empathy_scores\n",
    "\n",
    "engineer_responses = [i['engineer_response'] for i in cleaned_data]\n",
    "empathy_scores = calculate_empathy_scores_with_distilbert(engineer_responses)\n",
    "\n",
    "\n",
    "for response, is_empathetic, sentiment_score in empathy_scores:\n",
    "    print(f\"Engineer Response: {response}\\n\")\n",
    "    print(f\"Is Empathetic: {is_empathetic}\")\n",
    "    print(f\"Sentiment Score: {sentiment_score}\")\n",
    "    print(\"Status: FAIL\",\"Comment: Engineer needs to be more empathetic\\n\")\n"
   ]
  },
  {
   "cell_type": "markdown",
   "id": "6de34b44",
   "metadata": {},
   "source": [
    "#  Sentiment Analysis with Hugging Face Pipeline\n",
    "\n",
    "Sets up a sentiment analysis pipeline using Hugging Face's `transformers` and applies it to analyze the empathy in engineer responses. Converts sentiment scores to a 1-10 scale for empathy"
   ]
  },
  {
   "cell_type": "code",
   "execution_count": 13,
   "id": "3d8db405",
   "metadata": {},
   "outputs": [
    {
     "name": "stderr",
     "output_type": "stream",
     "text": [
      "No model was supplied, defaulted to distilbert-base-uncased-finetuned-sst-2-english and revision af0f99b (https://huggingface.co/distilbert-base-uncased-finetuned-sst-2-english).\n",
      "Using a pipeline without specifying a model name and revision in production is not recommended.\n"
     ]
    },
    {
     "name": "stdout",
     "output_type": "stream",
     "text": [
      "(5, 'Moderately empathetic') \n",
      "\n",
      "Hi Roberto, We have de-staged the stores with lastpos and provided menu maker access. Store UUID : 7dad6eeb-4746 A46d97e2-e99 A26f3b8a-4ffc 02 Efb224ca-04 If you feel your request was not addressed/resolved properly, you can reopen the same case within 3 business working days and/or request escalation. If you have a new issue, please raise a new case. Regards, L2 UET Support \n",
      "\n",
      "(5, 'Moderately empathetic') \n",
      "\n",
      "Hi Stefan, Please follow the below documents to update the modifiers in the menu payload. https://develo https:/develo Store UUID: 7140faa If you feel the issue is not addressed/resolved properly you can reopen the same case within 3 business working days or If you have a new issue please raise a new case. Thanks, L2 UET Support \n",
      "\n",
      "(5, 'Moderately empathetic') \n",
      "\n",
      "Hi Pankaj, Please try understanding the situation. All the menu changes need to be done from POS side when the store was POS integrated. We understand that the uber has 2 pricing options but that also needs to be updated from POS side. If you want to update the prices, then we can provide menu edit access but after a menu sync happens from POS then the menu will be overridden. So, We request you to please reach out to Square POS and let them assist with the situation. Store UUID - f264 If you feel the issue is not addressed/resolved properly you can reopen the same case within 3 business working days or If you have a new issue please raise a new case. Thanks, L2 UET Support \n",
      "\n",
      "(5, 'Moderately empathetic') \n",
      "\n",
      "Hi There, We have checked the below store, the store is well staged with clover pos. The store uuid:- 19c9 pos provider :- Info Client ID: h5_UUhrR57LkVM8zuLCFz-2ivW3jCUPF App Owner UUID: c84bb38 We have done the menu refresh was store, and the menu refresh was successful. we could see the still item was out of stock. please try to update the menu from Clover dashboard. please reach out to pos provider for help. If you feel the issue has not been addressed or resolved properly, you can reopen the same case within 3 business days. If you have a new issue, please raise a new case. Thanks, L2 UET support Grammar - Fail Comment - Email has 4+ grammar errors. \n",
      "\n"
     ]
    }
   ],
   "source": [
    "# Initialize the sentiment analysis pipeline\n",
    "sentiment_analyzer = pipeline(\"sentiment-analysis\")\n",
    "\n",
    "def analyze_empathy(response):\n",
    "    \"\"\"\n",
    "    Analyze the empathy in the engineer response using a sentiment analysis model.\n",
    "    Convert the sentiment score to a 1-10 scale for empathy.\n",
    "    \"\"\"\n",
    "    results = sentiment_analyzer(response)\n",
    "    \n",
    "    if results[0]['label'] == 'NEGATIVE':\n",
    "        empathy_score = round((results[0]['score']) * 5)\n",
    "    else:\n",
    "        empathy_score = round(results[0]['score'] * 5)\n",
    "    empathy_comment = \"Highly empathetic\" if empathy_score > 7 else \"Moderately empathetic\" if empathy_score > 4 else \"Low empathy\"\n",
    "    return empathy_score, empathy_comment\n",
    "for _, row in original_data.iterrows():\n",
    "    print(analyze_empathy(row['engineer_response']),\"\\n\")\n",
    "    print(row['engineer_response'],\"\\n\")\n",
    "    "
   ]
  },
  {
   "cell_type": "markdown",
   "id": "fa73e3a7",
   "metadata": {},
   "source": [
    "# Generating labeled data\n",
    "\n",
    "We are manually creating labeled data by using a function that is designed to assess the empathetic nature of an engineer's response by analyzing the sentiment of the given text. We are giving sample engineer and customer responses for training our models."
   ]
  },
  {
   "cell_type": "code",
   "execution_count": 14,
   "id": "dd1312d6",
   "metadata": {},
   "outputs": [
    {
     "name": "stdout",
     "output_type": "stream",
     "text": [
      "Data has been saved to empathy_data.csv\n"
     ]
    }
   ],
   "source": [
    "# Function to generate empathy label based on sentiment analysis\n",
    "def generate_empathy_label(engineer_response):\n",
    "    blob = TextBlob(engineer_response)\n",
    "    sentiment_score = blob.sentiment.polarity  # Range: -1 (negative) to 1 (positive)\n",
    "    \n",
    "    empathy_label = round((sentiment_score + 1) * 5.5)\n",
    "    \n",
    "    return max(0, min(10, empathy_label)) \n",
    "\n",
    "engineer_responses = [\n",
    "    \"I understand your frustration. Let's work on a solution.\",\n",
    "    \"I apologize for the poor service. We'll investigate and make improvements.\",\n",
    "    \"You're welcome! I'm glad I could assist you.\",\n",
    "    \"I'm sorry for the inconvenience. Let me see what I can do to help.\",\n",
    "    \"I'm sorry to hear that. Can you provide more details so I can better assist you?\",\n",
    "    \"I'm sorry to hear that. We value your feedback and will strive to improve.\",\n",
    "    \"You're welcome! If you have any more questions, feel free to ask.\",\n",
    "    \"I'm sorry to hear about your experience. We'll investigate and address the issue.\",\n",
    "    \"I understand your frustration. Let's work together to find a solution.\",\n",
    "    \"I apologize if my assistance was not satisfactory. Please let me know how I can help.\",\n",
    "    \"I'm glad we could resolve the issue to your satisfaction.\",\n",
    "    \"Thank you for bringing this matter to our attention. We'll address it promptly.\",\n",
    "    \"Your feedback is crucial for our continuous improvement. We value your input.\",\n",
    "    \"I apologize for any inconvenience caused. Let's work together to find a solution.\",\n",
    "    \"I understand the frustration this may have caused. We're here to assist you.\",\n",
    "    \"We appreciate your loyalty to our services. Your satisfaction is important to us.\",\n",
    "    \"I'm committed to ensuring a positive experience for you. Let me know how I can help.\",\n",
    "    \"Your concerns are heard, and we're taking steps to prevent a recurrence.\",\n",
    "    \"I'm sorry if our service did not meet your expectations. We'll learn from this.\",\n",
    "    \"I appreciate your understanding. We'll make improvements to avoid similar issues.\",\n",
    "    \"I appreciate your patience as we work to resolve this issue.\",\n",
    "    \"I'm committed to ensuring your satisfaction. Let's address this concern together.\",\n",
    "    \"Your insights are valuable to us. We'll use them to enhance our services.\",\n",
    "    \"I apologize for any inconvenience caused. We'll take corrective measures.\",\n",
    "    \"Thank you for bringing this to our attention. We'll investigate and respond promptly.\",\n",
    "    \"I'm here to assist you with any questions or issues you may have.\",\n",
    "    \"Your feedback is crucial in helping us improve. We'll learn from this experience.\",\n",
    "    \"I understand the challenges you're facing. We'll explore solutions to make it right.\",\n",
    "    \"I'm sorry if our service fell short of your expectations. We're committed to improvement.\",\n",
    "    \"Your satisfaction is our priority. We'll take immediate action to address your concerns.\",\n",
    "    \"I'm glad we could resolve your issue. If you have more questions, feel free to ask.\",\n",
    "    \"I understand the importance of your concern. We'll prioritize this matter.\",\n",
    "    \"I apologize for any inconvenience. Let's work together to find a solution.\",\n",
    "    \"Thank you for reaching out. We'll investigate and get back to you shortly.\",\n",
    "    \"I appreciate your detailed explanation. It helps us understand the situation better.\",\n",
    "    \"I'm here to assist you at any time. Your satisfaction is our goal.\",\n",
    "    \"Your feedback drives our improvement. We'll take your suggestions into account.\",\n",
    "    \"I'm sorry to hear about your experience. We'll make sure this doesn't happen again.\",\n",
    "    \"Your positive feedback motivates us to provide excellent service. Thank you!\",\n",
    "    \"I understand this has been frustrating. We'll do our best to make it right.\",\n",
    "    \"I appreciate your patience. We're working on resolving the issue.\",\n",
    "    \"I'm thrilled to hear that you're satisfied with our service!\",\n",
    "    \"I'm sorry for any confusion. Let me clarify the steps for you.\",\n",
    "    \"Your feedback is valuable. We'll use it to enhance our services.\",\n",
    "    \"Thank you for bringing this to our attention. We'll investigate immediately.\",\n",
    "    \"I'm here to help. Let me know if there's anything else you need assistance with.\",\n",
    "    \"I understand this is frustrating. We'll expedite the resolution process.\",\n",
    "    \"Your positive experience is our priority. Let us know if there's anything we can improve.\",\n",
    "    \"I'm sorry to hear about the inconvenience. We'll take immediate action to address it.\",\n",
    "    \"Your satisfaction is important to us. We'll do our best to make things right.\"\n",
    "]\n",
    "\n",
    "customer_complaints = [\n",
    "    \"There has been a mistake in your service. I'm not satisfied.\",\n",
    "    \"I'm not happy with your response. It wasn't helpful.\",\n",
    "    \"Your service is terrible. I'm disappointed.\",\n",
    "    \"I'm frustrated with the poor service. Can you fix it?\",\n",
    "    \"Your assistance didn't address my concerns. I'm unhappy.\",\n",
    "    \"I have a problem with your service. Can you help?\",\n",
    "    \"I'm dissatisfied with the resolution. It's unacceptable.\",\n",
    "    \"I'm not pleased with your support. It's frustrating.\",\n",
    "    \"Your service is not helpful. I'm disappointed.\",\n",
    "    \"I'm having issues with your service. Can you resolve them?\",\n",
    "    \"I'm not satisfied with your assistance. It's frustrating.\",\n",
    "    \"Your support is not up to the mark. I'm disappointed.\",\n",
    "    \"I'm not happy with your service. It's unacceptable.\",\n",
    "    \"I'm disappointed with your response. It's not satisfactory.\",\n",
    "    \"Your service fell short of my expectations. I'm frustrated.\",\n",
    "    \"I'm not happy with the outcome. It's disappointing.\",\n",
    "    \"Your service is causing inconvenience. Can you fix it?\",\n",
    "    \"I'm dissatisfied with your resolution. It's not helpful.\",\n",
    "    \"I'm facing problems with your service. Can you assist?\",\n",
    "    \"I'm unhappy with your assistance. It's frustrating.\",\n",
    "    \"Your support is not satisfactory. I'm not pleased.\",\n",
    "    \"I'm frustrated with the inconvenience caused by your service.\",\n",
    "    \"I'm disappointed with your resolution. It's not acceptable.\",\n",
    "    \"Your service is causing frustration. Can you address it?\",\n",
    "    \"I'm dissatisfied with your support. It's not helpful.\",\n",
    "    \"I'm not pleased with your assistance. It's frustrating.\",\n",
    "    \"Your service is not satisfactory. I'm disappointed.\",\n",
    "    \"I'm frustrated with your response. It's not helpful.\",\n",
    "    \"I'm not happy with your support. It's disappointing.\",\n",
    "    \"Your resolution is not satisfactory. I'm disappointed.\",\n",
    "    \"I'm not pleased with your assistance. It's frustrating.\",\n",
    "    \"Your service is not helpful. I'm disappointed.\",\n",
    "    \"I'm disappointed with your response. It's not satisfactory.\",\n",
    "    \"Your service fell short of my expectations. I'm frustrated.\",\n",
    "    \"I'm not happy with the outcome. It's disappointing.\",\n",
    "    \"Your service is causing inconvenience. Can you fix it?\",\n",
    "    \"I'm dissatisfied with your resolution. It's not helpful.\",\n",
    "    \"I'm facing problems with your service. Can you assist?\",\n",
    "    \"I'm unhappy with your assistance. It's frustrating.\",\n",
    "    \"Your support is not satisfactory. I'm not pleased.\",\n",
    "    \"I'm frustrated with the inconvenience caused by your service.\",\n",
    "    \"I'm disappointed with your resolution. It's not acceptable.\",\n",
    "    \"Your service is causing frustration. Can you address it?\",\n",
    "    \"I'm dissatisfied with your support. It's not helpful.\",\n",
    "    \"I'm not pleased with your assistance. It's frustrating.\",\n",
    "    \"Your service is not satisfactory. I'm disappointed.\",\n",
    "    \"I'm frustrated with your response. It's not helpful.\",\n",
    "    \"I'm not happy with your support. It's disappointing.\",\n",
    "    \"Your resolution is not satisfactory. I'm disappointed.\",\n",
    "    \"I'm not pleased with your assistance. It's frustrating.\",\n",
    "    \"Your service is not helpful. I'm disappointed.\",\n",
    "    \"I'm disappointed with your response. It's not satisfactory.\",\n",
    "    \"Your service fell short of my expectations. I'm frustrated.\",\n",
    "    \"I'm not happy with the outcome. It's disappointing.\",\n",
    "    \"Your service is causing inconvenience. Can you fix it?\",\n",
    "    \"I'm dissatisfied with your resolution. It's not helpful.\",\n",
    "    \"I'm facing problems with your service. Can you assist?\",\n",
    "    \"I'm unhappy with your assistance. It's frustrating.\",\n",
    "    \"Your support is not satisfactory. I'm not pleased.\",\n",
    "    \"I'm frustrated with the inconvenience caused by your service.\",\n",
    "    \"I'm disappointed with your resolution. It's not acceptable.\",\n",
    "    \"Your service is causing frustration. Can you address it?\",\n",
    "    \"I'm dissatisfied with your support. It's not helpful.\",\n",
    "    \"I'm not pleased with your assistance. It's frustrating.\",\n",
    "    \"Your service is not satisfactory. I'm disappointed.\",\n",
    "    \"I'm frustrated with your response. It's not helpful.\",\n",
    "    \"I'm not happy with your support. It's disappointing.\",\n",
    "    \"Your resolution is not satisfactory. I'm disappointed.\",\n",
    "    \"I'm not pleased with your assistance. It's frustrating.\",\n",
    "    \"Your service is not helpful. I'm disappointed.\",\n",
    "    \"I'm disappointed with your response. It's not satisfactory.\",\n",
    "    \"Your service fell short of my expectations. I'm frustrated.\",\n",
    "    \"I'm not happy with the outcome. It's disappointing.\",\n",
    "    \"Your service is causing inconvenience. Can you fix it?\",\n",
    "    \"I'm dissatisfied with your resolution. It's not helpful.\",\n",
    "    \"I'm facing problems with your service. Can you assist?\",\n",
    "    \"I'm unhappy with your assistance. It's frustrating.\",\n",
    "    \"Your support is not satisfactory. I'm not pleased.\",\n",
    "    \"I'm frustrated with the inconvenience caused by your service.\",\n",
    "    \"I'm disappointed with your resolution. It's not acceptable.\",\n",
    "    \"Your service is causing frustration. Can you address it?\",\n",
    "    \"I'm dissatisfied with your support. It's not helpful.\",\n",
    "    \"I'm not pleased with your assistance. It's frustrating.\",\n",
    "    \"Your service is not satisfactory. I'm disappointed.\",\n",
    "    \"I'm frustrated with your response. It's not helpful.\",\n",
    "    \"I'm not happy with your support. It's disappointing.\",\n",
    "    \"Your resolution is not satisfactory. I'm disappointed.\",\n",
    "    \"I'm not pleased with your assistance. It's frustrating.\",\n",
    "    \"Your service is not helpful. I'm disappointed.\",\n",
    "    \"I'm disappointed with your response. It's not satisfactory.\",\n",
    "    \"Your service fell short of my expectations. I'm frustrated.\",\n",
    "    \"I'm not happy with the outcome. It's disappointing.\",\n",
    "    \"Your service is causing inconvenience. Can you fix it?\",\n",
    "    \"I'm dissatisfied with your resolution. It's not helpful.\",\n",
    "    \"I'm facing problems with your service. Can you assist?\",\n",
    "    \"I'm unhappy with your assistance. It's frustrating.\",\n",
    "    \"Your support is not satisfactory. I'm not pleased.\",\n",
    "    \"I'm frustrated with the inconvenience caused by your service.\",\n",
    "    \"I'm disappointed with your resolution. It's not acceptable.\",\n",
    "    \"Your service is causing frustration. Can you address it?\",\n",
    "    \"I'm dissatisfied with your support. It's not helpful.\",\n",
    "    \"I'm not pleased with your assistance. It's frustrating.\",\n",
    "    \"Your service is not satisfactory. I'm disappointed.\",\n",
    "    \"I'm frustrated with your response. It's not helpful.\",\n",
    "    \"I'm not happy with your support. It's disappointing.\",\n",
    "    \"Your resolution is not satisfactory. I'm disappointed.\",\n",
    "    \"I'm not pleased with your assistance. It's frustrating.\",\n",
    "    \"Your service is not helpful. I'm disappointed.\",\n",
    "]\n",
    "\n",
    "example_data = [{\"engineer_response\": response, \"empathy_label\": generate_empathy_label(response)} for response in engineer_responses]\n",
    "\n",
    "file_path = \"empathy_data.csv\"\n",
    "\n",
    "with open(file_path, mode='w', newline='', encoding='utf-8') as file:\n",
    "    writer = csv.writer(file)\n",
    "    \n",
    "\n",
    "    writer.writerow([\"customer_response\", \"engineer_response\", \"empathy_label\"])\n",
    "    \n",
    "\n",
    "    for customer_response, entry in zip(customer_complaints, example_data):\n",
    "        writer.writerow([customer_response, entry[\"engineer_response\"], entry[\"empathy_label\"]])\n",
    "\n",
    "print(f'Data has been saved to {file_path}')"
   ]
  },
  {
   "cell_type": "markdown",
   "id": "6c1a62e8",
   "metadata": {},
   "source": [
    "# Text Preprocessing for NLP\n",
    "\n",
    "Further preprocesses the text data by tokenizing, removing stopwords, and lemmatizing the words. This step is crucial for effective NLP analysis."
   ]
  },
  {
   "cell_type": "code",
   "execution_count": 15,
   "id": "5e6b6f76",
   "metadata": {},
   "outputs": [
    {
     "name": "stdout",
     "output_type": "stream",
     "text": [
      "                                   customer_response  \\\n",
      "0  There has been a mistake in your service. I'm ...   \n",
      "1  I'm not happy with your response. It wasn't he...   \n",
      "2        Your service is terrible. I'm disappointed.   \n",
      "3  I'm frustrated with the poor service. Can you ...   \n",
      "4  Your assistance didn't address my concerns. I'...   \n",
      "\n",
      "                                   engineer_response  empathy_label  \\\n",
      "0  I understand your frustration. Let's work on a...              6   \n",
      "1  I apologize for the poor service. We'll invest...              3   \n",
      "2       You're welcome! I'm glad I could assist you.             10   \n",
      "3  I'm sorry for the inconvenience. Let me see wh...              3   \n",
      "4  I'm sorry to hear that. Can you provide more d...              6   \n",
      "\n",
      "                     processed_customer_response  \\\n",
      "0               mistake service . 'm satisfied .   \n",
      "1              'm happy response . n't helpful .   \n",
      "2           service terrible . 'm disappointed .   \n",
      "3             'm frustrated poor service . fix ?   \n",
      "4  assistance n't address concern . 'm unhappy .   \n",
      "\n",
      "                         processed_engineer_response  \n",
      "0    understand frustration . Let 's work solution .  \n",
      "1  apologize poor service . 'll investigate make ...  \n",
      "2               're welcome ! 'm glad could assist .  \n",
      "3            'm sorry inconvenience . Let see help .  \n",
      "4     'm sorry hear . provide detail better assist ?  \n"
     ]
    }
   ],
   "source": [
    "def tokenize_and_lemmatize(text):\n",
    "    words = word_tokenize(text)\n",
    "\n",
    "    stop_words = set(stopwords.words('english'))\n",
    "    filtered_words = [word for word in words if word.lower() not in stop_words]\n",
    "    lemmatizer = WordNetLemmatizer()\n",
    "    lemmatized_words = [lemmatizer.lemmatize(word) for word in filtered_words]\n",
    "    lemmatized_text = \" \".join(lemmatized_words)\n",
    "\n",
    "    return lemmatized_text\n",
    "\n",
    "# Read the labeled data we created\n",
    "test_data = pd.read_csv('empathy_data.csv')  # Replace with the actual path\n",
    "\n",
    "test_data['processed_customer_response'] = test_data['customer_response'].apply(tokenize_and_lemmatize)\n",
    "\n",
    "test_data['processed_engineer_response'] = test_data['engineer_response'].apply(tokenize_and_lemmatize)\n",
    "\n",
    "print(test_data.head())\n"
   ]
  },
  {
   "cell_type": "markdown",
   "id": "2e126733",
   "metadata": {},
   "source": [
    "# Training and Testing Machine Learning Models\n",
    "\n",
    "Includes code for training and evaluating machine learning models (Logistic Regression, Random Forest) on the empathy scoring task. The cell also covers model hyperparameter tuning and performance evaluation."
   ]
  },
  {
   "cell_type": "code",
   "execution_count": 16,
   "id": "dbb59e37",
   "metadata": {
    "scrolled": false
   },
   "outputs": [
    {
     "name": "stdout",
     "output_type": "stream",
     "text": [
      "Accuracy: 0.7\n",
      "Sentence:  Hi Roberto, We have de-staged the stores with lastpos and provided menu maker access. Store UUID : 7dad6eeb-4746 A46d97e2-e99 A26f3b8a-4ffc 02 Efb224ca-04 If you feel your request was not addressed/resolved properly, you can reopen the same case within 3 business working days and/or request escalation. If you have a new issue, please raise a new case. Regards, L2 UET Support \n",
      "\n",
      "Empathy Score:  6\n",
      "Status: FAIL \n",
      " Comment: Engineer needs to be more empathetic\n",
      "\n",
      "Sentence:  Hi Stefan, Please follow the below documents to update the modifiers in the menu payload. https://develo https:/develo Store UUID: 7140faa If you feel the issue is not addressed/resolved properly you can reopen the same case within 3 business working days or If you have a new issue please raise a new case. Thanks, L2 UET Support \n",
      "\n",
      "Empathy Score:  6\n",
      "Status: FAIL \n",
      " Comment: Engineer needs to be more empathetic\n",
      "\n",
      "Sentence:  Hi Pankaj, Please try understanding the situation. All the menu changes need to be done from POS side when the store was POS integrated. We understand that the uber has 2 pricing options but that also needs to be updated from POS side. If you want to update the prices, then we can provide menu edit access but after a menu sync happens from POS then the menu will be overridden. So, We request you to please reach out to Square POS and let them assist with the situation. Store UUID - f264 If you feel the issue is not addressed/resolved properly you can reopen the same case within 3 business working days or If you have a new issue please raise a new case. Thanks, L2 UET Support \n",
      "\n",
      "Empathy Score:  6\n",
      "Status: FAIL \n",
      " Comment: Engineer needs to be more empathetic\n",
      "\n",
      "Sentence:  Hi There, We have checked the below store, the store is well staged with clover pos. The store uuid:- 19c9 pos provider :- Info Client ID: h5_UUhrR57LkVM8zuLCFz-2ivW3jCUPF App Owner UUID: c84bb38 We have done the menu refresh was store, and the menu refresh was successful. we could see the still item was out of stock. please try to update the menu from Clover dashboard. please reach out to pos provider for help. If you feel the issue has not been addressed or resolved properly, you can reopen the same case within 3 business days. If you have a new issue, please raise a new case. Thanks, L2 UET support Grammar - Fail Comment - Email has 4+ grammar errors. \n",
      "\n",
      "Empathy Score:  6\n",
      "Status: FAIL \n",
      " Comment: Engineer needs to be more empathetic\n",
      "\n"
     ]
    }
   ],
   "source": [
    "X = [\" \".join([row['processed_customer_response'], row['processed_engineer_response']]) for _, row in test_data.iterrows()]\n",
    "y = test_data['empathy_label']\n",
    "\n",
    "\n",
    "X_train, X_test, y_train, y_test = train_test_split(X, y, test_size=0.2, random_state=42)\n",
    "\n",
    "\n",
    "vectorizer = CountVectorizer()\n",
    "X_train_vec = vectorizer.fit_transform(X_train)\n",
    "X_test_vec = vectorizer.transform(X_test)\n",
    "\n",
    "model = LogisticRegression()\n",
    "y_train = y_train.astype(int)\n",
    "model.fit(X_train_vec, y_train)\n",
    "\n",
    "y_pred = model.predict(X_test_vec)\n",
    "\n",
    "accuracy = accuracy_score(y_test, y_pred)\n",
    "print(f\"Accuracy: {accuracy}\")\n",
    "\n",
    "\n",
    "X_original = [\" \".join([row['customer_response'], row['engineer_response']]) for _, row in original_data.iterrows()]\n",
    "X_original_vec = vectorizer.transform(X_original)\n",
    "\n",
    "\n",
    "y_original_pred = model.predict(X_original_vec)\n",
    "for _, row in original_data.iterrows():\n",
    "    print(\"Sentence: \",row['engineer_response'],\"\\n\")\n",
    "    print(\"Empathy Score: \",y_original_pred[_])\n",
    "    if(y_original_pred[_]>=7):\n",
    "        print(\"Status: PASS\\n\")\n",
    "    else:\n",
    "        print(\"Status: FAIL\",\"\\n\",\"Comment: Engineer needs to be more empathetic\\n\")\n",
    "    \n",
    "    "
   ]
  },
  {
   "cell_type": "markdown",
   "id": "f41f953f",
   "metadata": {},
   "source": [
    "# Hyperparameter tuning for Random Classifier \n",
    "\n",
    "Hyperparameter tuning applied for Random Classifier to see if accuracy can be approved.\n",
    "\n",
    "*Apparently giving same accuracy."
   ]
  },
  {
   "cell_type": "code",
   "execution_count": 17,
   "id": "0b93b4db",
   "metadata": {},
   "outputs": [
    {
     "name": "stderr",
     "output_type": "stream",
     "text": [
      "C:\\Users\\SNEHA\\anaconda3\\Lib\\site-packages\\sklearn\\model_selection\\_split.py:725: UserWarning: The least populated class in y has only 1 members, which is less than n_splits=10.\n",
      "  warnings.warn(\n"
     ]
    },
    {
     "name": "stdout",
     "output_type": "stream",
     "text": [
      "Accuracy: 0.7\n",
      "Best Hyperparameters: {'max_depth': None, 'min_samples_leaf': 4, 'min_samples_split': 2, 'n_estimators': 50}\n"
     ]
    }
   ],
   "source": [
    "from sklearn.model_selection import GridSearchCV\n",
    "\n",
    "# Define the parameter grid\n",
    "param_grid = {\n",
    "    'n_estimators': [50, 100, 200],\n",
    "    'max_depth': [None, 10, 20],\n",
    "    'min_samples_split': [2, 5, 10],\n",
    "    'min_samples_leaf': [1, 2, 4]\n",
    "}\n",
    "\n",
    "model = RandomForestClassifier(random_state=42)\n",
    "\n",
    "grid_search = GridSearchCV(model, param_grid, cv=10, scoring='accuracy')\n",
    "\n",
    "grid_search.fit(X_train_vec, y_train)\n",
    "\n",
    "best_model = grid_search.best_estimator_\n",
    "\n",
    "y_pred = best_model.predict(X_test_vec)\n",
    "\n",
    "accuracy = accuracy_score(y_test, y_pred)\n",
    "print(f\"Accuracy: {accuracy}\")\n",
    "print(\"Best Hyperparameters:\", grid_search.best_params_)\n"
   ]
  },
  {
   "cell_type": "markdown",
   "id": "eca9012f",
   "metadata": {},
   "source": [
    "# Random Classifier\n",
    "\n",
    "Using this model as this is apt for a data set so small.Also able to achieve 70% accuracy due to inadequate length of dataset.Labeled data created manually for training model."
   ]
  },
  {
   "cell_type": "code",
   "execution_count": 18,
   "id": "363fb77c",
   "metadata": {
    "scrolled": true
   },
   "outputs": [
    {
     "name": "stdout",
     "output_type": "stream",
     "text": [
      "Accuracy: 0.7\n",
      "Sentence:  Hi Roberto, We have de-staged the stores with lastpos and provided menu maker access. Store UUID : 7dad6eeb-4746 A46d97e2-e99 A26f3b8a-4ffc 02 Efb224ca-04 If you feel your request was not addressed/resolved properly, you can reopen the same case within 3 business working days and/or request escalation. If you have a new issue, please raise a new case. Regards, L2 UET Support\n",
      "Empathy Score:  6\n",
      "Status: FAIL Comment: Engineer needs to be more empathetic\n",
      "\n",
      "Sentence:  Hi Stefan, Please follow the below documents to update the modifiers in the menu payload. https://develo https:/develo Store UUID: 7140faa If you feel the issue is not addressed/resolved properly you can reopen the same case within 3 business working days or If you have a new issue please raise a new case. Thanks, L2 UET Support\n",
      "Empathy Score:  6\n",
      "Status: FAIL Comment: Engineer needs to be more empathetic\n",
      "\n",
      "Sentence:  Hi Pankaj, Please try understanding the situation. All the menu changes need to be done from POS side when the store was POS integrated. We understand that the uber has 2 pricing options but that also needs to be updated from POS side. If you want to update the prices, then we can provide menu edit access but after a menu sync happens from POS then the menu will be overridden. So, We request you to please reach out to Square POS and let them assist with the situation. Store UUID - f264 If you feel the issue is not addressed/resolved properly you can reopen the same case within 3 business working days or If you have a new issue please raise a new case. Thanks, L2 UET Support\n",
      "Empathy Score:  6\n",
      "Status: FAIL Comment: Engineer needs to be more empathetic\n",
      "\n",
      "Sentence:  Hi There, We have checked the below store, the store is well staged with clover pos. The store uuid:- 19c9 pos provider :- Info Client ID: h5_UUhrR57LkVM8zuLCFz-2ivW3jCUPF App Owner UUID: c84bb38 We have done the menu refresh was store, and the menu refresh was successful. we could see the still item was out of stock. please try to update the menu from Clover dashboard. please reach out to pos provider for help. If you feel the issue has not been addressed or resolved properly, you can reopen the same case within 3 business days. If you have a new issue, please raise a new case. Thanks, L2 UET support Grammar - Fail Comment - Email has 4+ grammar errors.\n",
      "Empathy Score:  6\n",
      "Status: FAIL Comment: Engineer needs to be more empathetic\n",
      "\n"
     ]
    }
   ],
   "source": [
    "# Train a Random Forest classifier\n",
    "# Use TF-IDF Vectorization for tokenization and vectorization\n",
    "vectorizer = TfidfVectorizer()\n",
    "X_train_vec = vectorizer.fit_transform(X_train)\n",
    "X_test_vec = vectorizer.transform(X_test)\n",
    "\n",
    "model1 = RandomForestClassifier(n_estimators=100, random_state=42)\n",
    "model1.fit(X_train_vec, y_train)\n",
    "\n",
    "\n",
    "y_pred = model1.predict(X_test_vec)\n",
    "\n",
    "\n",
    "accuracy = accuracy_score(y_test, y_pred)\n",
    "print(f\"Accuracy: {accuracy}\")\n",
    "y_original_pred = model1.predict(X_original_vec)\n",
    "for _, row in original_data.iterrows():\n",
    "    print(\"Sentence: \",row['engineer_response'])\n",
    "    print(\"Empathy Score: \",y_original_pred[_])\n",
    "    if(y_original_pred[_]>=7):\n",
    "        status=\"Pass\"\n",
    "        comment=\"Nil\"\n",
    "        print(\"Status: PASS\\n\")\n",
    "    else:\n",
    "        status=\"Fail\"\n",
    "        comment=\"Engineer needs to be more empathetic\"\n",
    "        print(\"Status: FAIL\",\"Comment: Engineer needs to be more empathetic\\n\")\n",
    "    result_data.append({\"ticket_id\": row['ticket_id'], \"parameter\": \"Empathy\",\"score\":y_original_pred[_],\"status\":status,\"comment\":comment})\n",
    "    "
   ]
  },
  {
   "cell_type": "markdown",
   "id": "212808a8",
   "metadata": {},
   "source": [
    "# Result \n",
    "\n",
    "Result set having ticket id as column for reference and its respective SCORE, STATUS and COMMENT for each parameter GRAMMER and EMPATHY. Result set also saved as csv in your dir."
   ]
  },
  {
   "cell_type": "code",
   "execution_count": 19,
   "id": "f044b6ae",
   "metadata": {},
   "outputs": [
    {
     "name": "stdout",
     "output_type": "stream",
     "text": [
      "  ticket_id parameter  score status  \\\n",
      "0     34333   grammar      6   Fail   \n",
      "1       338   grammar     10   Pass   \n",
      "2        33   grammar      6   Fail   \n",
      "3       337   grammar      1   Fail   \n",
      "4     34333   Empathy      6   Fail   \n",
      "5       338   Empathy      6   Fail   \n",
      "6        33   Empathy      6   Fail   \n",
      "7       337   Empathy      6   Fail   \n",
      "\n",
      "                                             comment  \n",
      "0  Possible spelling mistake found. (Suggested wo...  \n",
      "1                       No grammatical errors found.  \n",
      "2  Possible spelling mistake found. (Suggested wo...  \n",
      "3  Possible spelling mistake found. (Suggested wo...  \n",
      "4               Engineer needs to be more empathetic  \n",
      "5               Engineer needs to be more empathetic  \n",
      "6               Engineer needs to be more empathetic  \n",
      "7               Engineer needs to be more empathetic  \n"
     ]
    }
   ],
   "source": [
    "result_df = pd.DataFrame(result_data)\n",
    "result_df.to_excel('output.xlsx', index=False)\n",
    "print(result_df)"
   ]
  }
 ],
 "metadata": {
  "kernelspec": {
   "display_name": "Python 3 (ipykernel)",
   "language": "python",
   "name": "python3"
  },
  "language_info": {
   "codemirror_mode": {
    "name": "ipython",
    "version": 3
   },
   "file_extension": ".py",
   "mimetype": "text/x-python",
   "name": "python",
   "nbconvert_exporter": "python",
   "pygments_lexer": "ipython3",
   "version": "3.11.4"
  }
 },
 "nbformat": 4,
 "nbformat_minor": 5
}
